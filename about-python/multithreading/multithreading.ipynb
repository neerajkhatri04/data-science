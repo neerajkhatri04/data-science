{
 "cells": [
  {
   "cell_type": "code",
   "execution_count": 6,
   "metadata": {},
   "outputs": [],
   "source": [
    "import threading"
   ]
  },
  {
   "cell_type": "code",
   "execution_count": 7,
   "metadata": {},
   "outputs": [],
   "source": [
    "def test(id):\n",
    "    print(f\"prog start {id}\")"
   ]
  },
  {
   "cell_type": "code",
   "execution_count": 8,
   "metadata": {},
   "outputs": [
    {
     "name": "stdout",
     "output_type": "stream",
     "text": [
      "prog start 45\n"
     ]
    }
   ],
   "source": [
    "test(45)"
   ]
  },
  {
   "cell_type": "code",
   "execution_count": 9,
   "metadata": {},
   "outputs": [],
   "source": [
    "tread = [threading.Thread(target=test, args=(i,)) for i in range(10)]"
   ]
  },
  {
   "cell_type": "code",
   "execution_count": 10,
   "metadata": {},
   "outputs": [
    {
     "name": "stdout",
     "output_type": "stream",
     "text": [
      "prog start 0\n",
      "prog start 1\n",
      "prog start 2\n",
      "prog start 3\n",
      "prog start 4\n",
      "prog start 5\n",
      "prog start 6\n",
      "prog start 7\n",
      "prog start 8\n",
      "prog start 9\n"
     ]
    }
   ],
   "source": [
    "for t in tread:\n",
    "    t.start()"
   ]
  },
  {
   "cell_type": "code",
   "execution_count": 11,
   "metadata": {},
   "outputs": [],
   "source": [
    "import urllib.request"
   ]
  },
  {
   "cell_type": "code",
   "execution_count": 12,
   "metadata": {},
   "outputs": [],
   "source": [
    "def file_download(url, filename):\n",
    "    urllib.request.urlretrieve(url, filename)"
   ]
  },
  {
   "cell_type": "code",
   "execution_count": 13,
   "metadata": {},
   "outputs": [],
   "source": [
    "file_download(\"https://raw.githubusercontent.com/PromzzyKoncepts/Gitflow-Practice/develop/programmer.txt\", \"test.txt\")"
   ]
  },
  {
   "cell_type": "code",
   "execution_count": 14,
   "metadata": {},
   "outputs": [],
   "source": [
    "url_list = [\"https://raw.githubusercontent.com/PromzzyKoncepts/Gitflow-Practice/develop/programmer.txt\", \"https://raw.githubusercontent.com/PromzzyKoncepts/Gitflow-Practice/develop/simplicity.txt\", \"https://raw.githubusercontent.com/PromzzyKoncepts/Gitflow-Practice/develop/solve.txt\"]"
   ]
  },
  {
   "cell_type": "code",
   "execution_count": 15,
   "metadata": {},
   "outputs": [
    {
     "data": {
      "text/plain": [
       "['https://raw.githubusercontent.com/PromzzyKoncepts/Gitflow-Practice/develop/programmer.txt',\n",
       " 'https://raw.githubusercontent.com/PromzzyKoncepts/Gitflow-Practice/develop/simplicity.txt',\n",
       " 'https://raw.githubusercontent.com/PromzzyKoncepts/Gitflow-Practice/develop/solve.txt']"
      ]
     },
     "execution_count": 15,
     "metadata": {},
     "output_type": "execute_result"
    }
   ],
   "source": [
    "url_list"
   ]
  },
  {
   "cell_type": "code",
   "execution_count": 16,
   "metadata": {},
   "outputs": [],
   "source": [
    "file_name_list = [\"data1.txt\", \"data2.txt\", \"data3.txt\"]"
   ]
  },
  {
   "cell_type": "code",
   "execution_count": 17,
   "metadata": {},
   "outputs": [],
   "source": [
    "tread = [threading.Thread(target=file_download, args=(url_list[i], file_name_list[i])) for i in  range(len(url_list))]"
   ]
  },
  {
   "cell_type": "code",
   "execution_count": 18,
   "metadata": {},
   "outputs": [],
   "source": [
    "for t in tread:\n",
    "    t.start()"
   ]
  },
  {
   "cell_type": "code",
   "execution_count": 19,
   "metadata": {},
   "outputs": [
    {
     "data": {
      "text/plain": [
       "[<Thread(Thread-25 (file_download), stopped 29720)>,\n",
       " <Thread(Thread-26 (file_download), stopped 30480)>,\n",
       " <Thread(Thread-27 (file_download), stopped 2668)>]"
      ]
     },
     "execution_count": 19,
     "metadata": {},
     "output_type": "execute_result"
    }
   ],
   "source": [
    "tread"
   ]
  },
  {
   "cell_type": "code",
   "execution_count": 20,
   "metadata": {},
   "outputs": [
    {
     "data": {
      "text/plain": [
       "2222869840144"
      ]
     },
     "execution_count": 20,
     "metadata": {},
     "output_type": "execute_result"
    }
   ],
   "source": [
    "id(tread[0])"
   ]
  },
  {
   "cell_type": "code",
   "execution_count": 31,
   "metadata": {},
   "outputs": [],
   "source": [
    "import  time\n",
    "def test1(id):\n",
    "    for i in range(10):\n",
    "        print(f\"Test1:{id}  Printing...{i}  {time.ctime()}\")\n",
    "        time.sleep(1)"
   ]
  },
  {
   "cell_type": "code",
   "execution_count": 32,
   "metadata": {},
   "outputs": [
    {
     "name": "stdout",
     "output_type": "stream",
     "text": [
      "Test1:1  Printing...0  Sat Apr 27 12:59:56 2024\n",
      "Test1:1  Printing...1  Sat Apr 27 12:59:57 2024\n",
      "Test1:1  Printing...2  Sat Apr 27 12:59:58 2024\n",
      "Test1:1  Printing...3  Sat Apr 27 12:59:59 2024\n",
      "Test1:1  Printing...4  Sat Apr 27 13:00:00 2024\n",
      "Test1:1  Printing...5  Sat Apr 27 13:00:01 2024\n",
      "Test1:1  Printing...6  Sat Apr 27 13:00:02 2024\n",
      "Test1:1  Printing...7  Sat Apr 27 13:00:03 2024\n",
      "Test1:1  Printing...8  Sat Apr 27 13:00:04 2024\n",
      "Test1:1  Printing...9  Sat Apr 27 13:00:05 2024\n"
     ]
    }
   ],
   "source": [
    "test1(1)"
   ]
  },
  {
   "cell_type": "code",
   "execution_count": 33,
   "metadata": {},
   "outputs": [
    {
     "name": "stdout",
     "output_type": "stream",
     "text": [
      "Test1:2  Printing...0  Sat Apr 27 13:00:13 2024\n",
      "Test1:2  Printing...1  Sat Apr 27 13:00:14 2024\n",
      "Test1:2  Printing...2  Sat Apr 27 13:00:15 2024\n",
      "Test1:2  Printing...3  Sat Apr 27 13:00:16 2024\n",
      "Test1:2  Printing...4  Sat Apr 27 13:00:17 2024\n",
      "Test1:2  Printing...5  Sat Apr 27 13:00:18 2024\n",
      "Test1:2  Printing...6  Sat Apr 27 13:00:19 2024\n",
      "Test1:2  Printing...7  Sat Apr 27 13:00:20 2024\n",
      "Test1:2  Printing...8  Sat Apr 27 13:00:21 2024\n",
      "Test1:2  Printing...9  Sat Apr 27 13:00:22 2024\n"
     ]
    }
   ],
   "source": [
    "test1(2)"
   ]
  },
  {
   "cell_type": "code",
   "execution_count": 36,
   "metadata": {},
   "outputs": [],
   "source": [
    "thread1=[threading.Thread(target=test1,  args=(i,)) for i in range(3)]"
   ]
  },
  {
   "cell_type": "code",
   "execution_count": 35,
   "metadata": {},
   "outputs": [
    {
     "data": {
      "text/plain": [
       "[<Thread(Thread-118 (test1), initial)>,\n",
       " <Thread(Thread-119 (test1), initial)>,\n",
       " <Thread(Thread-120 (test1), initial)>]"
      ]
     },
     "execution_count": 35,
     "metadata": {},
     "output_type": "execute_result"
    }
   ],
   "source": [
    "thread1"
   ]
  },
  {
   "cell_type": "code",
   "execution_count": 37,
   "metadata": {},
   "outputs": [
    {
     "name": "stdout",
     "output_type": "stream",
     "text": [
      "Test1:0  Printing...0  Sat Apr 27 13:00:43 2024\n",
      "Test1:1  Printing...0  Sat Apr 27 13:00:43 2024\n",
      "Test1:2  Printing...0  Sat Apr 27 13:00:43 2024\n"
     ]
    },
    {
     "name": "stdout",
     "output_type": "stream",
     "text": [
      "Test1:0  Printing...1  Sat Apr 27 13:00:44 2024Test1:1  Printing...1  Sat Apr 27 13:00:44 2024\n",
      "\n",
      "Test1:2  Printing...1  Sat Apr 27 13:00:44 2024\n",
      "Test1:1  Printing...2  Sat Apr 27 13:00:45 2024Test1:0  Printing...2  Sat Apr 27 13:00:45 2024\n",
      "Test1:2  Printing...2  Sat Apr 27 13:00:45 2024\n",
      "\n",
      "Test1:2  Printing...3  Sat Apr 27 13:00:46 2024\n",
      "Test1:1  Printing...3  Sat Apr 27 13:00:46 2024\n",
      "Test1:0  Printing...3  Sat Apr 27 13:00:46 2024\n",
      "Test1:2  Printing...4  Sat Apr 27 13:00:47 2024Test1:0  Printing...4  Sat Apr 27 13:00:47 2024\n",
      "Test1:1  Printing...4  Sat Apr 27 13:00:47 2024\n",
      "\n",
      "Test1:0  Printing...5  Sat Apr 27 13:00:48 2024\n",
      "Test1:2  Printing...5  Sat Apr 27 13:00:48 2024\n",
      "Test1:1  Printing...5  Sat Apr 27 13:00:48 2024\n",
      "Test1:2  Printing...6  Sat Apr 27 13:00:49 2024Test1:0  Printing...6  Sat Apr 27 13:00:49 2024\n",
      "\n",
      "Test1:1  Printing...6  Sat Apr 27 13:00:49 2024\n",
      "Test1:0  Printing...7  Sat Apr 27 13:00:50 2024\n",
      "Test1:2  Printing...7  Sat Apr 27 13:00:50 2024\n",
      "Test1:1  Printing...7  Sat Apr 27 13:00:50 2024\n",
      "Test1:0  Printing...8  Sat Apr 27 13:00:51 2024\n",
      "Test1:2  Printing...8  Sat Apr 27 13:00:51 2024\n",
      "Test1:1  Printing...8  Sat Apr 27 13:00:51 2024\n",
      "Test1:0  Printing...9  Sat Apr 27 13:00:52 2024\n",
      "Test1:1  Printing...9  Sat Apr 27 13:00:52 2024\n",
      "Test1:2  Printing...9  Sat Apr 27 13:00:52 2024\n"
     ]
    }
   ],
   "source": [
    "for i in thread1:\n",
    "    i.start()"
   ]
  },
  {
   "cell_type": "code",
   "execution_count": 52,
   "metadata": {},
   "outputs": [],
   "source": [
    "shared_var = 0\n",
    "lock_var = threading.Lock()"
   ]
  },
  {
   "cell_type": "code",
   "execution_count": 56,
   "metadata": {},
   "outputs": [],
   "source": [
    "def test2(id):\n",
    "    global shared_var\n",
    "    with lock_var:\n",
    "        shared_var += 1\n",
    "        print(f\"test2: {id} printing...{shared_var}\")\n",
    "        time.sleep(1)"
   ]
  },
  {
   "cell_type": "code",
   "execution_count": 57,
   "metadata": {},
   "outputs": [],
   "source": [
    "th = [threading.Thread(target=test2, args=(i,)) for i in range(3)]"
   ]
  },
  {
   "cell_type": "code",
   "execution_count": 58,
   "metadata": {},
   "outputs": [
    {
     "name": "stdout",
     "output_type": "stream",
     "text": [
      "test2: 0 printing...4\n"
     ]
    },
    {
     "name": "stdout",
     "output_type": "stream",
     "text": [
      "test2: 1 printing...5\n",
      "test2: 2 printing...6\n"
     ]
    }
   ],
   "source": [
    "for i in th:\n",
    "    i.start()"
   ]
  },
  {
   "cell_type": "code",
   "execution_count": null,
   "metadata": {},
   "outputs": [],
   "source": []
  }
 ],
 "metadata": {
  "kernelspec": {
   "display_name": "Python 3",
   "language": "python",
   "name": "python3"
  },
  "language_info": {
   "codemirror_mode": {
    "name": "ipython",
    "version": 3
   },
   "file_extension": ".py",
   "mimetype": "text/x-python",
   "name": "python",
   "nbconvert_exporter": "python",
   "pygments_lexer": "ipython3",
   "version": "3.12.2"
  }
 },
 "nbformat": 4,
 "nbformat_minor": 2
}
